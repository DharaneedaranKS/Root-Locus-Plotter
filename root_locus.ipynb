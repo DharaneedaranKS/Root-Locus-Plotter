{
  "nbformat": 4,
  "nbformat_minor": 0,
  "metadata": {
    "colab": {
      "provenance": []
    },
    "kernelspec": {
      "name": "python3",
      "display_name": "Python 3"
    },
    "language_info": {
      "name": "python"
    }
  },
  "cells": [
    {
      "cell_type": "code",
      "source": [
        "import numpy as np\n",
        "import matplotlib.pyplot as plt"
      ],
      "metadata": {
        "id": "A88K2LcfwmnS"
      },
      "execution_count": 21,
      "outputs": []
    },
    {
      "cell_type": "code",
      "execution_count": 3,
      "metadata": {
        "colab": {
          "base_uri": "https://localhost:8080/"
        },
        "id": "6exDTUpowI54",
        "outputId": "39ccbed8-89a0-4309-b05b-abed02583608"
      },
      "outputs": [
        {
          "name": "stdout",
          "output_type": "stream",
          "text": [
            "Enter the numerator co-efficients : 1 3\n",
            "Enter the denominator co-efficients : 1 7 14 8 0\n"
          ]
        }
      ],
      "source": [
        "#accepting the numerator and denominator of the transfer function\n",
        "num = [float(item) for item in input(\"Enter the numerator co-efficients : \").split()]\n",
        "den = [float(item) for item in input(\"Enter the denominator co-efficients : \").split()]\n"
      ]
    },
    {
      "cell_type": "code",
      "source": [
        "print(num)\n",
        "print(den)"
      ],
      "metadata": {
        "colab": {
          "base_uri": "https://localhost:8080/"
        },
        "id": "G6Qg0IyhwOeA",
        "outputId": "6040130f-06a5-4c38-9170-c3bb56b24d95"
      },
      "execution_count": 4,
      "outputs": [
        {
          "output_type": "stream",
          "name": "stdout",
          "text": [
            "[1.0, 3.0]\n",
            "[1.0, 7.0, 14.0, 8.0, 0.0]\n"
          ]
        }
      ]
    },
    {
      "cell_type": "code",
      "source": [
        "#trying to normalise the numerator and denominator into the same order (NOTE: I am assuming the denominator is of higher order always)\n",
        "nor = len(den)-len(num)\n",
        "x = np.zeros(nor)\n",
        "num = np.concatenate((x, num))\n",
        "tf = [num, den] #transfer function loosely put here\n",
        "#affirmation for transfer function\n",
        "print(tf)"
      ],
      "metadata": {
        "id": "rq3qpRTUaMU9"
      },
      "execution_count": 9,
      "outputs": []
    },
    {
      "cell_type": "code",
      "source": [
        "#gain K being defined\n",
        "ks = np.linspace(0, 5, num = 5000)"
      ],
      "metadata": {
        "id": "nMylBYbybBJE"
      },
      "execution_count": 23,
      "outputs": []
    },
    {
      "cell_type": "code",
      "source": [
        "#calculating roots for every possible gain\n",
        "roots = []\n",
        "\n",
        "for k1 in ks:\n",
        "    ch_eq = den +  k1*num #characteristic equation\n",
        "    ch_roots = np.roots(ch_eq)\n",
        "    ch_roots.sort()\n",
        "    roots.append(ch_roots)\n",
        "# convert final roots list into array\n",
        "roots = np.vstack(roots)"
      ],
      "metadata": {
        "id": "5IOeaBAQcEgc"
      },
      "execution_count": 24,
      "outputs": []
    },
    {
      "cell_type": "code",
      "source": [
        "  # get real and imaginary values\n",
        "  real_vals = np.real(roots)\n",
        "  imag_vals = np.imag(roots)\n",
        "\n",
        "  # possible colors\n",
        "  colors = ['b', 'm', 'c', 'r', 'g']\n",
        "\n",
        "  # create figure and axis labels\n",
        "  fig, ax = plt.subplots()\n",
        "  ax.set_xlabel('Re')\n",
        "  ax.set_ylabel('Im')\n",
        "  ax.axvline(x=0, color='k', lw=1)\n",
        "  ax.grid(True, which='both')\n",
        "\n",
        "  # plots a blue \"x\" for the first roots\n",
        "  ax.scatter(real_vals[0, :], imag_vals[0, :], marker='x', color='blue')\n",
        "\n",
        "  # plots a red \"o\" for the last roots\n",
        "  ax.scatter(real_vals[-1, :], imag_vals[-1, :], marker='o',color='red')\n",
        "\n",
        "  temp_real_vals = real_vals[1:-1, :]\n",
        "  temp_imag_vals = imag_vals[1:-1, :]\n",
        "  color_range = range(temp_real_vals.shape[1])\n",
        "\n",
        "  # plot the rest of the roots in different colors with respect to the regions\n",
        "  for r, i, j in zip(temp_real_vals.T, temp_imag_vals.T, color_range):\n",
        "    ax.plot(r, i, color=colors[j])"
      ],
      "metadata": {
        "colab": {
          "base_uri": "https://localhost:8080/",
          "height": 279
        },
        "id": "ZaJvJ3GUc3A0",
        "outputId": "139210ff-8281-4ce8-c49d-6afef6506656"
      },
      "execution_count": 28,
      "outputs": [
        {
          "output_type": "display_data",
          "data": {
            "text/plain": [
              "<Figure size 432x288 with 1 Axes>"
            ],
            "image/png": "[encoded data removed]"
          },
          "metadata": {
            "needs_background": "light"
          }
        }
      ]
    }
  ]
}